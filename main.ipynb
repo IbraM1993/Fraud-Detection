{
 "cells": [
  {
   "cell_type": "markdown",
   "metadata": {
    "id": "hsvCASUcaUx4"
   },
   "source": [
    "# Fraud Detection in Online Transactions"
   ]
  },
  {
   "cell_type": "markdown",
   "metadata": {
    "id": "vCHTtXWbaUx_"
   },
   "source": [
    "#### Importing Basic Libraries"
   ]
  },
  {
   "cell_type": "code",
   "execution_count": 1,
   "metadata": {
    "id": "HYEpvUfOaUyA"
   },
   "outputs": [],
   "source": [
    "import pandas as pd\n",
    "import numpy as np\n",
    "import matplotlib.pyplot as plt\n",
    "import seaborn as sns\n",
    "import warnings\n",
    "from datetime import datetime\n",
    "from datetime import date\n",
    "\n",
    "%matplotlib inline\n",
    "warnings.filterwarnings(\"ignore\") # to ignore (not display) warnings\n",
    "sns.set() # activate seaborn style"
   ]
  },
  {
   "cell_type": "markdown",
   "metadata": {
    "id": "rVFMLELVaUyA"
   },
   "source": [
    "#### Exploratory Data Analysis"
   ]
  },
  {
   "cell_type": "code",
   "execution_count": 2,
   "metadata": {},
   "outputs": [
    {
     "data": {
      "text/html": [
       "<div>\n",
       "<style scoped>\n",
       "    .dataframe tbody tr th:only-of-type {\n",
       "        vertical-align: middle;\n",
       "    }\n",
       "\n",
       "    .dataframe tbody tr th {\n",
       "        vertical-align: top;\n",
       "    }\n",
       "\n",
       "    .dataframe thead th {\n",
       "        text-align: right;\n",
       "    }\n",
       "</style>\n",
       "<table border=\"1\" class=\"dataframe\">\n",
       "  <thead>\n",
       "    <tr style=\"text-align: right;\">\n",
       "      <th></th>\n",
       "      <th>user_id</th>\n",
       "      <th>signup_time</th>\n",
       "      <th>purchase_time</th>\n",
       "      <th>purchase_value</th>\n",
       "      <th>device_id</th>\n",
       "      <th>source</th>\n",
       "      <th>browser</th>\n",
       "      <th>sex</th>\n",
       "      <th>age</th>\n",
       "      <th>ip_address</th>\n",
       "      <th>is_fraud</th>\n",
       "    </tr>\n",
       "  </thead>\n",
       "  <tbody>\n",
       "    <tr>\n",
       "      <th>0</th>\n",
       "      <td>22058</td>\n",
       "      <td>2015-02-24 22:55:49</td>\n",
       "      <td>2015-04-18 2:47:11</td>\n",
       "      <td>34</td>\n",
       "      <td>QVPSPJUOCKZAR</td>\n",
       "      <td>SEO</td>\n",
       "      <td>Chrome</td>\n",
       "      <td>M</td>\n",
       "      <td>39</td>\n",
       "      <td>7.327584e+08</td>\n",
       "      <td>0</td>\n",
       "    </tr>\n",
       "    <tr>\n",
       "      <th>1</th>\n",
       "      <td>333320</td>\n",
       "      <td>2015-06-07 20:39:50</td>\n",
       "      <td>2015-06-08 1:38:54</td>\n",
       "      <td>16</td>\n",
       "      <td>EOGFQPIZPYXFZ</td>\n",
       "      <td>Ads</td>\n",
       "      <td>Chrome</td>\n",
       "      <td>F</td>\n",
       "      <td>53</td>\n",
       "      <td>3.503114e+08</td>\n",
       "      <td>0</td>\n",
       "    </tr>\n",
       "    <tr>\n",
       "      <th>2</th>\n",
       "      <td>1359</td>\n",
       "      <td>2015-01-01 18:52:44</td>\n",
       "      <td>2015-01-01 18:52:45</td>\n",
       "      <td>15</td>\n",
       "      <td>YSSKYOSJHPPLJ</td>\n",
       "      <td>SEO</td>\n",
       "      <td>Opera</td>\n",
       "      <td>M</td>\n",
       "      <td>53</td>\n",
       "      <td>2.621474e+09</td>\n",
       "      <td>1</td>\n",
       "    </tr>\n",
       "    <tr>\n",
       "      <th>3</th>\n",
       "      <td>150084</td>\n",
       "      <td>2015-04-28 21:13:25</td>\n",
       "      <td>2015-05-04 13:54:50</td>\n",
       "      <td>44</td>\n",
       "      <td>ATGTXKYKUDUQN</td>\n",
       "      <td>SEO</td>\n",
       "      <td>Safari</td>\n",
       "      <td>M</td>\n",
       "      <td>41</td>\n",
       "      <td>3.840542e+09</td>\n",
       "      <td>0</td>\n",
       "    </tr>\n",
       "    <tr>\n",
       "      <th>4</th>\n",
       "      <td>221365</td>\n",
       "      <td>2015-07-21 7:09:52</td>\n",
       "      <td>2015-09-09 18:40:53</td>\n",
       "      <td>39</td>\n",
       "      <td>NAUITBZFJKHWW</td>\n",
       "      <td>Ads</td>\n",
       "      <td>Safari</td>\n",
       "      <td>M</td>\n",
       "      <td>45</td>\n",
       "      <td>4.155831e+08</td>\n",
       "      <td>0</td>\n",
       "    </tr>\n",
       "  </tbody>\n",
       "</table>\n",
       "</div>"
      ],
      "text/plain": [
       "   user_id          signup_time        purchase_time  purchase_value  \\\n",
       "0    22058  2015-02-24 22:55:49   2015-04-18 2:47:11              34   \n",
       "1   333320  2015-06-07 20:39:50   2015-06-08 1:38:54              16   \n",
       "2     1359  2015-01-01 18:52:44  2015-01-01 18:52:45              15   \n",
       "3   150084  2015-04-28 21:13:25  2015-05-04 13:54:50              44   \n",
       "4   221365   2015-07-21 7:09:52  2015-09-09 18:40:53              39   \n",
       "\n",
       "       device_id source browser sex  age    ip_address  is_fraud  \n",
       "0  QVPSPJUOCKZAR    SEO  Chrome   M   39  7.327584e+08         0  \n",
       "1  EOGFQPIZPYXFZ    Ads  Chrome   F   53  3.503114e+08         0  \n",
       "2  YSSKYOSJHPPLJ    SEO   Opera   M   53  2.621474e+09         1  \n",
       "3  ATGTXKYKUDUQN    SEO  Safari   M   41  3.840542e+09         0  \n",
       "4  NAUITBZFJKHWW    Ads  Safari   M   45  4.155831e+08         0  "
      ]
     },
     "execution_count": 2,
     "metadata": {},
     "output_type": "execute_result"
    }
   ],
   "source": [
    "# importing data and displaying first 5 rows\n",
    "df = pd.read_csv(\"Fraud_Data.csv\")\n",
    "df.head()"
   ]
  },
  {
   "cell_type": "code",
   "execution_count": 3,
   "metadata": {
    "id": "Rr-874eiaUyC"
   },
   "outputs": [
    {
     "data": {
      "text/html": [
       "<div>\n",
       "<style scoped>\n",
       "    .dataframe tbody tr th:only-of-type {\n",
       "        vertical-align: middle;\n",
       "    }\n",
       "\n",
       "    .dataframe tbody tr th {\n",
       "        vertical-align: top;\n",
       "    }\n",
       "\n",
       "    .dataframe thead th {\n",
       "        text-align: right;\n",
       "    }\n",
       "</style>\n",
       "<table border=\"1\" class=\"dataframe\">\n",
       "  <thead>\n",
       "    <tr style=\"text-align: right;\">\n",
       "      <th></th>\n",
       "      <th>user_id</th>\n",
       "      <th>purchase_value</th>\n",
       "      <th>age</th>\n",
       "      <th>ip_address</th>\n",
       "      <th>is_fraud</th>\n",
       "    </tr>\n",
       "  </thead>\n",
       "  <tbody>\n",
       "    <tr>\n",
       "      <th>count</th>\n",
       "      <td>151112.000000</td>\n",
       "      <td>151112.000000</td>\n",
       "      <td>151112.000000</td>\n",
       "      <td>1.511120e+05</td>\n",
       "      <td>151112.000000</td>\n",
       "    </tr>\n",
       "    <tr>\n",
       "      <th>mean</th>\n",
       "      <td>200171.040970</td>\n",
       "      <td>36.935372</td>\n",
       "      <td>33.140704</td>\n",
       "      <td>2.152145e+09</td>\n",
       "      <td>0.093646</td>\n",
       "    </tr>\n",
       "    <tr>\n",
       "      <th>std</th>\n",
       "      <td>115369.285024</td>\n",
       "      <td>18.322762</td>\n",
       "      <td>8.617733</td>\n",
       "      <td>1.248497e+09</td>\n",
       "      <td>0.291336</td>\n",
       "    </tr>\n",
       "    <tr>\n",
       "      <th>min</th>\n",
       "      <td>2.000000</td>\n",
       "      <td>9.000000</td>\n",
       "      <td>18.000000</td>\n",
       "      <td>5.209350e+04</td>\n",
       "      <td>0.000000</td>\n",
       "    </tr>\n",
       "    <tr>\n",
       "      <th>25%</th>\n",
       "      <td>100642.500000</td>\n",
       "      <td>22.000000</td>\n",
       "      <td>27.000000</td>\n",
       "      <td>1.085934e+09</td>\n",
       "      <td>0.000000</td>\n",
       "    </tr>\n",
       "    <tr>\n",
       "      <th>50%</th>\n",
       "      <td>199958.000000</td>\n",
       "      <td>35.000000</td>\n",
       "      <td>33.000000</td>\n",
       "      <td>2.154770e+09</td>\n",
       "      <td>0.000000</td>\n",
       "    </tr>\n",
       "    <tr>\n",
       "      <th>75%</th>\n",
       "      <td>300054.000000</td>\n",
       "      <td>49.000000</td>\n",
       "      <td>39.000000</td>\n",
       "      <td>3.243258e+09</td>\n",
       "      <td>0.000000</td>\n",
       "    </tr>\n",
       "    <tr>\n",
       "      <th>max</th>\n",
       "      <td>400000.000000</td>\n",
       "      <td>154.000000</td>\n",
       "      <td>76.000000</td>\n",
       "      <td>4.294850e+09</td>\n",
       "      <td>1.000000</td>\n",
       "    </tr>\n",
       "  </tbody>\n",
       "</table>\n",
       "</div>"
      ],
      "text/plain": [
       "             user_id  purchase_value            age    ip_address  \\\n",
       "count  151112.000000   151112.000000  151112.000000  1.511120e+05   \n",
       "mean   200171.040970       36.935372      33.140704  2.152145e+09   \n",
       "std    115369.285024       18.322762       8.617733  1.248497e+09   \n",
       "min         2.000000        9.000000      18.000000  5.209350e+04   \n",
       "25%    100642.500000       22.000000      27.000000  1.085934e+09   \n",
       "50%    199958.000000       35.000000      33.000000  2.154770e+09   \n",
       "75%    300054.000000       49.000000      39.000000  3.243258e+09   \n",
       "max    400000.000000      154.000000      76.000000  4.294850e+09   \n",
       "\n",
       "            is_fraud  \n",
       "count  151112.000000  \n",
       "mean        0.093646  \n",
       "std         0.291336  \n",
       "min         0.000000  \n",
       "25%         0.000000  \n",
       "50%         0.000000  \n",
       "75%         0.000000  \n",
       "max         1.000000  "
      ]
     },
     "execution_count": 3,
     "metadata": {},
     "output_type": "execute_result"
    }
   ],
   "source": [
    "# statistical description\n",
    "df.describe()"
   ]
  },
  {
   "cell_type": "code",
   "execution_count": 4,
   "metadata": {
    "id": "LsGwjwsXaUyD",
    "scrolled": true
   },
   "outputs": [
    {
     "data": {
      "text/plain": [
       "user_id             int64\n",
       "signup_time        object\n",
       "purchase_time      object\n",
       "purchase_value      int64\n",
       "device_id          object\n",
       "source             object\n",
       "browser            object\n",
       "sex                object\n",
       "age                 int64\n",
       "ip_address        float64\n",
       "is_fraud            int64\n",
       "dtype: object"
      ]
     },
     "execution_count": 4,
     "metadata": {},
     "output_type": "execute_result"
    }
   ],
   "source": [
    "# displays types of data held in each column\n",
    "df.dtypes"
   ]
  },
  {
   "cell_type": "markdown",
   "metadata": {
    "id": "fi_iCpcVaUyD"
   },
   "source": [
    "There seems to be a problem with ip_address, since it is if type float64. Hence, we need to inspect this column. However, we shall first check for its correlation with the our problem: if it has a weak correlation, there will be no need for that column to be used in the first place."
   ]
  },
  {
   "cell_type": "code",
   "execution_count": 5,
   "metadata": {
    "id": "STskHlhMaUyD",
    "scrolled": true
   },
   "outputs": [
    {
     "data": {
      "text/plain": [
       "user_id           0\n",
       "signup_time       0\n",
       "purchase_time     0\n",
       "purchase_value    0\n",
       "device_id         0\n",
       "source            0\n",
       "browser           0\n",
       "sex               0\n",
       "age               0\n",
       "ip_address        0\n",
       "is_fraud          0\n",
       "dtype: int64"
      ]
     },
     "execution_count": 5,
     "metadata": {},
     "output_type": "execute_result"
    }
   ],
   "source": [
    "# checking for missing values in every column\n",
    "df.isnull().sum()"
   ]
  },
  {
   "cell_type": "markdown",
   "metadata": {
    "id": "aGRZuuVtaUyE"
   },
   "source": [
    "Since all of the values are zeros, this indicates that there are no missing values in the dataset."
   ]
  },
  {
   "cell_type": "code",
   "execution_count": 6,
   "metadata": {
    "id": "7JcjPxAJaUyE"
   },
   "outputs": [
    {
     "data": {
      "text/plain": [
       "0"
      ]
     },
     "execution_count": 6,
     "metadata": {},
     "output_type": "execute_result"
    }
   ],
   "source": [
    "# checking for dupliacted data\n",
    "df.duplicated().sum()"
   ]
  },
  {
   "cell_type": "markdown",
   "metadata": {
    "id": "LCNHtYNFaUyF"
   },
   "source": [
    "No duplicated data."
   ]
  },
  {
   "cell_type": "code",
   "execution_count": 7,
   "metadata": {
    "id": "E1NqedFHaUyF"
   },
   "outputs": [
    {
     "data": {
      "image/png": "[encoded data removed]",
      "text/plain": [
       "<Figure size 432x288 with 1 Axes>"
      ]
     },
     "metadata": {},
     "output_type": "display_data"
    }
   ],
   "source": [
    "# checking for the total fraud cases with respext to the total observations\n",
    "fraud_total = df[\"is_fraud\"].value_counts() # counts the total number of observations where the transaction is frauduflent\n",
    "fig, ax = plt.subplots()\n",
    "labels_map = {0: \"Non-Fraudulent\", 1: \"Fraudulent\"}\n",
    "ax.pie(fraud_total.values, labels=fraud_total.index.map(labels_map), autopct=\"%1.2f%%\", shadow=True, startangle=90) # startangle 90 to rotate the chart by 90 degress counter-clockwise and autopct to display % of portions\n",
    "ax.axis(\"equal\")  # equal aspect ratio ensures that pie is drawn as a circle.\n",
    "plt.show()"
   ]
  },
  {
   "cell_type": "markdown",
   "metadata": {
    "id": "5Gtr5SZ3aUyF"
   },
   "source": [
    "Fraudulent transactions are less than 10%."
   ]
  },
  {
   "cell_type": "code",
   "execution_count": 8,
   "metadata": {
    "id": "QgneNo-_aUyG"
   },
   "outputs": [
    {
     "data": {
      "text/plain": [
       "0   -75112.0\n",
       "1     -300.0\n",
       "2       -1.0\n",
       "3    -8202.0\n",
       "4   -72692.0\n",
       "Name: time_difference, dtype: float64"
      ]
     },
     "execution_count": 8,
     "metadata": {},
     "output_type": "execute_result"
    }
   ],
   "source": [
    "# inspecting time gap between transactions to check if it impacts a transaction's type\n",
    "\n",
    "# converting the data in the two time columns into pandas datetime data\n",
    "df[\"signup_time\"] = pd.to_datetime(df[\"signup_time\"])\n",
    "df[\"purchase_time\"] = pd.to_datetime(df[\"purchase_time\"])\n",
    "\n",
    "# creating new column `time_difference` to calculate the time difference\n",
    "df[\"time_difference\"] = (df[\"signup_time\"] - df[\"purchase_time\"]).astype(\"timedelta64[m]\") # astype casts the timedelta64[n] (nano seconds) into milliseconds in float format\n",
    "df[\"time_difference\"].head()"
   ]
  },
  {
   "cell_type": "code",
   "execution_count": 9,
   "metadata": {
    "id": "WKB4ZjdkaUyG"
   },
   "outputs": [
    {
     "data": {
      "image/png": "[encoded data removed]",
      "text/plain": [
       "<Figure size 432x288 with 1 Axes>"
      ]
     },
     "metadata": {},
     "output_type": "display_data"
    }
   ],
   "source": [
    "# plotting to see the impact of the time difference on the transaction's type\n",
    "sns.distplot((df[df[\"is_fraud\"]==1][\"time_difference\"]), label=pd.Series([1]).map(labels_map), bins=50, kde=False) # with kde=False, the plot will hide the kernel density estimation and only show the histogram\n",
    "sns.distplot((df[df[\"is_fraud\"]==0][\"time_difference\"]), label=pd.Series([0]).map(labels_map), bins=50, kde=False)\n",
    "plt.legend()\n",
    "plt.show()"
   ]
  },
  {
   "cell_type": "markdown",
   "metadata": {
    "id": "nss2uvYdaUyG"
   },
   "source": [
    "It is obvious that transactions with a small time difference between the signup time and the transaction time are fraudulent. This is an important column."
   ]
  },
  {
   "cell_type": "code",
   "execution_count": 10,
   "metadata": {
    "id": "QprtMA0XaUyH"
   },
   "outputs": [
    {
     "data": {
      "image/png": "[encoded data removed]",
      "text/plain": [
       "<Figure size 432x288 with 1 Axes>"
      ]
     },
     "metadata": {},
     "output_type": "display_data"
    }
   ],
   "source": [
    "# checking pruchase_value\n",
    "sns.distplot((df[df[\"is_fraud\"]==1][\"purchase_value\"]), label=pd.Series([1]).map(labels_map), bins=50) # no need for kde=False because we wish to display the likelihood distribution\n",
    "sns.distplot((df[df[\"is_fraud\"]==0][\"purchase_value\"]), label=pd.Series([0]).map(labels_map), bins=50)\n",
    "plt.legend()\n",
    "plt.show()"
   ]
  },
  {
   "cell_type": "markdown",
   "metadata": {
    "id": "jIAeUXPyaUyH"
   },
   "source": [
    "Regarding the purchase value, there is not a significant difference between the two likelihoods: the two distributions are almost the same. This column does not hold valuable information."
   ]
  },
  {
   "cell_type": "code",
   "execution_count": 11,
   "metadata": {
    "id": "G0M8pkhUaUyI"
   },
   "outputs": [
    {
     "data": {
      "image/png": "[encoded data removed]",
      "text/plain": [
       "<Figure size 432x288 with 1 Axes>"
      ]
     },
     "metadata": {},
     "output_type": "display_data"
    }
   ],
   "source": [
    "# checking age\n",
    "sns.distplot((df[df[\"is_fraud\"]==1][\"age\"]), label=pd.Series([1]).map(labels_map), bins=50) # no need for kde=False because we wish to display the likelihood distribution\n",
    "sns.distplot((df[df[\"is_fraud\"]==0][\"age\"]), label=pd.Series([0]).map(labels_map), bins=50)\n",
    "plt.legend()\n",
    "plt.show()"
   ]
  },
  {
   "cell_type": "markdown",
   "metadata": {
    "id": "AAolefbgaUyI"
   },
   "source": [
    "The same goes for age. However, it is worth mentioning that the distributions are very similar even when there are outliers in non-fraudulent transactions but not in fraudulent ones."
   ]
  },
  {
   "cell_type": "code",
   "execution_count": 12,
   "metadata": {
    "id": "CJ3r_LFiaUyI"
   },
   "outputs": [
    {
     "data": {
      "image/png": "[encoded data removed]",
      "text/plain": [
       "<Figure size 432x288 with 1 Axes>"
      ]
     },
     "metadata": {},
     "output_type": "display_data"
    }
   ],
   "source": [
    "# checking ip_address\n",
    "sns.distplot((df[df[\"is_fraud\"]==1][\"ip_address\"]), label=pd.Series([1]).map(labels_map), bins=50)\n",
    "sns.distplot((df[df[\"is_fraud\"]==0][\"ip_address\"]), label=pd.Series([0]).map(labels_map), bins=50)\n",
    "plt.legend()\n",
    "plt.show()"
   ]
  },
  {
   "cell_type": "markdown",
   "metadata": {
    "id": "8i9G0kr_aUyJ"
   },
   "source": [
    "Similar distributions for ip addresses as well. No further inspection is needed, i.e., the problem mentioned earlier (float type) does not need to be addressed since this column will not be useful when classifying."
   ]
  },
  {
   "cell_type": "code",
   "execution_count": 13,
   "metadata": {
    "id": "V6e5qEqqaUyJ"
   },
   "outputs": [
    {
     "data": {
      "text/plain": [
       "137956"
      ]
     },
     "execution_count": 13,
     "metadata": {},
     "output_type": "execute_result"
    }
   ],
   "source": [
    "# checking for unique values in device_id\n",
    "df[\"device_id\"].nunique()"
   ]
  },
  {
   "cell_type": "markdown",
   "metadata": {
    "id": "TeuCaIoqaUyJ"
   },
   "source": [
    "In device_id, there are 137,956 unique values: it is not feasible nor it is efficient to use one hot encoding to represent such data. Hence, this column shall be dropped."
   ]
  },
  {
   "cell_type": "code",
   "execution_count": 14,
   "metadata": {
    "id": "hKYm9rQcaUyJ"
   },
   "outputs": [
    {
     "data": {
      "text/plain": [
       "151112"
      ]
     },
     "execution_count": 14,
     "metadata": {},
     "output_type": "execute_result"
    }
   ],
   "source": [
    "# checking for unique values in device_id\n",
    "df[\"user_id\"].nunique()"
   ]
  },
  {
   "cell_type": "markdown",
   "metadata": {
    "id": "9vhiWfI5aUyK"
   },
   "source": [
    "The total number of unique observations is equal to the total number of observations. Hence, every purchase has a unique user. Therefore, this column is unuseful."
   ]
  },
  {
   "cell_type": "code",
   "execution_count": 15,
   "metadata": {
    "id": "FWIVigNkaUyK"
   },
   "outputs": [
    {
     "data": {
      "text/plain": [
       "3"
      ]
     },
     "execution_count": 15,
     "metadata": {},
     "output_type": "execute_result"
    }
   ],
   "source": [
    "# checking for unique values in source\n",
    "df[\"source\"].nunique()"
   ]
  },
  {
   "cell_type": "markdown",
   "metadata": {
    "id": "T56FVORTaUyK"
   },
   "source": [
    "There are only 3 unique sources. It is worth one hot encoding to see if source is significant to the classifcation in hand."
   ]
  },
  {
   "cell_type": "code",
   "execution_count": 16,
   "metadata": {
    "id": "-d4A2T6BaUyK",
    "scrolled": true
   },
   "outputs": [
    {
     "data": {
      "text/html": [
       "<div>\n",
       "<style scoped>\n",
       "    .dataframe tbody tr th:only-of-type {\n",
       "        vertical-align: middle;\n",
       "    }\n",
       "\n",
       "    .dataframe tbody tr th {\n",
       "        vertical-align: top;\n",
       "    }\n",
       "\n",
       "    .dataframe thead th {\n",
       "        text-align: right;\n",
       "    }\n",
       "</style>\n",
       "<table border=\"1\" class=\"dataframe\">\n",
       "  <thead>\n",
       "    <tr style=\"text-align: right;\">\n",
       "      <th></th>\n",
       "      <th>encoded_Direct</th>\n",
       "      <th>encoded_SEO</th>\n",
       "    </tr>\n",
       "  </thead>\n",
       "  <tbody>\n",
       "    <tr>\n",
       "      <th>0</th>\n",
       "      <td>0</td>\n",
       "      <td>1</td>\n",
       "    </tr>\n",
       "    <tr>\n",
       "      <th>1</th>\n",
       "      <td>0</td>\n",
       "      <td>0</td>\n",
       "    </tr>\n",
       "    <tr>\n",
       "      <th>2</th>\n",
       "      <td>0</td>\n",
       "      <td>1</td>\n",
       "    </tr>\n",
       "    <tr>\n",
       "      <th>3</th>\n",
       "      <td>0</td>\n",
       "      <td>1</td>\n",
       "    </tr>\n",
       "    <tr>\n",
       "      <th>4</th>\n",
       "      <td>0</td>\n",
       "      <td>0</td>\n",
       "    </tr>\n",
       "    <tr>\n",
       "      <th>5</th>\n",
       "      <td>0</td>\n",
       "      <td>0</td>\n",
       "    </tr>\n",
       "    <tr>\n",
       "      <th>6</th>\n",
       "      <td>0</td>\n",
       "      <td>0</td>\n",
       "    </tr>\n",
       "    <tr>\n",
       "      <th>7</th>\n",
       "      <td>0</td>\n",
       "      <td>0</td>\n",
       "    </tr>\n",
       "    <tr>\n",
       "      <th>8</th>\n",
       "      <td>0</td>\n",
       "      <td>1</td>\n",
       "    </tr>\n",
       "    <tr>\n",
       "      <th>9</th>\n",
       "      <td>0</td>\n",
       "      <td>0</td>\n",
       "    </tr>\n",
       "    <tr>\n",
       "      <th>10</th>\n",
       "      <td>0</td>\n",
       "      <td>0</td>\n",
       "    </tr>\n",
       "    <tr>\n",
       "      <th>11</th>\n",
       "      <td>1</td>\n",
       "      <td>0</td>\n",
       "    </tr>\n",
       "    <tr>\n",
       "      <th>12</th>\n",
       "      <td>0</td>\n",
       "      <td>1</td>\n",
       "    </tr>\n",
       "    <tr>\n",
       "      <th>13</th>\n",
       "      <td>1</td>\n",
       "      <td>0</td>\n",
       "    </tr>\n",
       "    <tr>\n",
       "      <th>14</th>\n",
       "      <td>0</td>\n",
       "      <td>1</td>\n",
       "    </tr>\n",
       "  </tbody>\n",
       "</table>\n",
       "</div>"
      ],
      "text/plain": [
       "    encoded_Direct  encoded_SEO\n",
       "0                0            1\n",
       "1                0            0\n",
       "2                0            1\n",
       "3                0            1\n",
       "4                0            0\n",
       "5                0            0\n",
       "6                0            0\n",
       "7                0            0\n",
       "8                0            1\n",
       "9                0            0\n",
       "10               0            0\n",
       "11               1            0\n",
       "12               0            1\n",
       "13               1            0\n",
       "14               0            1"
      ]
     },
     "execution_count": 16,
     "metadata": {},
     "output_type": "execute_result"
    }
   ],
   "source": [
    "# one hot encoding of source\n",
    "source_encoded = pd.get_dummies(df[\"source\"], prefix=\"encoded\", drop_first=True) # drop first is to avoid dependancy among variables\n",
    "df = pd.concat([df, source_encoded], axis=1)\n",
    "df.loc[:, [\"encoded_Direct\", \"encoded_SEO\"]].head(15) # display 1st 15 rows of the encoded columns"
   ]
  },
  {
   "cell_type": "markdown",
   "metadata": {
    "id": "sfqe-CfhaUyM"
   },
   "source": [
    "- 0 in encoded_Direct and 1 in encoded_SEO: source is SEO\n",
    "- 1 in encoded_Direct and 0 in encoded_SEO: source is Direct\n",
    "- 0 in encoded_Direct and 0 in encoded_SEO: source is Ads"
   ]
  },
  {
   "cell_type": "code",
   "execution_count": 17,
   "metadata": {
    "id": "GkXm0SK8aUyM"
   },
   "outputs": [
    {
     "data": {
      "text/plain": [
       "5"
      ]
     },
     "execution_count": 17,
     "metadata": {},
     "output_type": "execute_result"
    }
   ],
   "source": [
    "# checking for unique values in browser\n",
    "df[\"browser\"].nunique()"
   ]
  },
  {
   "cell_type": "markdown",
   "metadata": {
    "id": "xYD4RKQlaUyN"
   },
   "source": [
    "We shall one hot encode browser."
   ]
  },
  {
   "cell_type": "code",
   "execution_count": 18,
   "metadata": {
    "id": "MFxEqOiXaUyO"
   },
   "outputs": [
    {
     "data": {
      "text/html": [
       "<div>\n",
       "<style scoped>\n",
       "    .dataframe tbody tr th:only-of-type {\n",
       "        vertical-align: middle;\n",
       "    }\n",
       "\n",
       "    .dataframe tbody tr th {\n",
       "        vertical-align: top;\n",
       "    }\n",
       "\n",
       "    .dataframe thead th {\n",
       "        text-align: right;\n",
       "    }\n",
       "</style>\n",
       "<table border=\"1\" class=\"dataframe\">\n",
       "  <thead>\n",
       "    <tr style=\"text-align: right;\">\n",
       "      <th></th>\n",
       "      <th>encoded_FireFox</th>\n",
       "      <th>encoded_IE</th>\n",
       "      <th>encoded_Opera</th>\n",
       "      <th>encoded_Safari</th>\n",
       "    </tr>\n",
       "  </thead>\n",
       "  <tbody>\n",
       "    <tr>\n",
       "      <th>0</th>\n",
       "      <td>0</td>\n",
       "      <td>0</td>\n",
       "      <td>0</td>\n",
       "      <td>0</td>\n",
       "    </tr>\n",
       "    <tr>\n",
       "      <th>1</th>\n",
       "      <td>0</td>\n",
       "      <td>0</td>\n",
       "      <td>0</td>\n",
       "      <td>0</td>\n",
       "    </tr>\n",
       "    <tr>\n",
       "      <th>2</th>\n",
       "      <td>0</td>\n",
       "      <td>0</td>\n",
       "      <td>1</td>\n",
       "      <td>0</td>\n",
       "    </tr>\n",
       "    <tr>\n",
       "      <th>3</th>\n",
       "      <td>0</td>\n",
       "      <td>0</td>\n",
       "      <td>0</td>\n",
       "      <td>1</td>\n",
       "    </tr>\n",
       "    <tr>\n",
       "      <th>4</th>\n",
       "      <td>0</td>\n",
       "      <td>0</td>\n",
       "      <td>0</td>\n",
       "      <td>1</td>\n",
       "    </tr>\n",
       "  </tbody>\n",
       "</table>\n",
       "</div>"
      ],
      "text/plain": [
       "   encoded_FireFox  encoded_IE  encoded_Opera  encoded_Safari\n",
       "0                0           0              0               0\n",
       "1                0           0              0               0\n",
       "2                0           0              1               0\n",
       "3                0           0              0               1\n",
       "4                0           0              0               1"
      ]
     },
     "execution_count": 18,
     "metadata": {},
     "output_type": "execute_result"
    }
   ],
   "source": [
    "# one hot encoding of browser\n",
    "browser_encoded = pd.get_dummies(df[\"browser\"], prefix=\"encoded\", drop_first=True) # drop first is to avoid dependancy among variables\n",
    "df = pd.concat([df, browser_encoded], axis=1)\n",
    "df.loc[:, browser_encoded.columns].head()"
   ]
  },
  {
   "cell_type": "markdown",
   "metadata": {
    "id": "DnzmjZ3kaUyO"
   },
   "source": [
    "Sex will be encoded as well: it is either male or female (M or F, respectively), i.e., it can be represented as 1s or 0s."
   ]
  },
  {
   "cell_type": "code",
   "execution_count": 19,
   "metadata": {
    "id": "p42RibN3aUyO"
   },
   "outputs": [
    {
     "data": {
      "text/plain": [
       "0    1\n",
       "1    0\n",
       "2    1\n",
       "3    1\n",
       "4    1\n",
       "Name: sex, dtype: int64"
      ]
     },
     "execution_count": 19,
     "metadata": {},
     "output_type": "execute_result"
    }
   ],
   "source": [
    "# mapping male and female in sex to 1 and 0, respectively.\n",
    "sex_map = {\"M\": 1, \"F\": 0}\n",
    "df[\"sex\"] = df[\"sex\"].map(sex_map)\n",
    "df[\"sex\"].head()"
   ]
  },
  {
   "cell_type": "markdown",
   "metadata": {
    "id": "4jxa8xLfaUyO"
   },
   "source": [
    "Now, unuseful columns shall be dropped."
   ]
  },
  {
   "cell_type": "code",
   "execution_count": 20,
   "metadata": {
    "id": "avldfr7OaUyP"
   },
   "outputs": [
    {
     "data": {
      "text/plain": [
       "Index(['user_id', 'signup_time', 'purchase_time', 'purchase_value',\n",
       "       'device_id', 'source', 'browser', 'sex', 'age', 'ip_address',\n",
       "       'is_fraud', 'time_difference', 'encoded_Direct', 'encoded_SEO',\n",
       "       'encoded_FireFox', 'encoded_IE', 'encoded_Opera', 'encoded_Safari'],\n",
       "      dtype='object')"
      ]
     },
     "execution_count": 20,
     "metadata": {},
     "output_type": "execute_result"
    }
   ],
   "source": [
    "# displaying all columns\n",
    "df.columns"
   ]
  },
  {
   "cell_type": "markdown",
   "metadata": {
    "id": "uzg0K_82aUyP"
   },
   "source": [
    "Verifying our analysis using correlation matrix of variables."
   ]
  },
  {
   "cell_type": "code",
   "execution_count": 21,
   "metadata": {
    "id": "zT3AzjpcaUyP"
   },
   "outputs": [
    {
     "data": {
      "image/png": "[encoded data removed]",
      "text/plain": [
       "<Figure size 432x288 with 2 Axes>"
      ]
     },
     "metadata": {},
     "output_type": "display_data"
    }
   ],
   "source": [
    "sns.heatmap(df.corr(), cmap=\"YlGnBu_r\")\n",
    "plt.show()"
   ]
  },
  {
   "cell_type": "markdown",
   "metadata": {
    "id": "FgTAyUlSaUyQ"
   },
   "source": [
    "From the heatmap, we are able to trust our analysis results."
   ]
  },
  {
   "cell_type": "markdown",
   "metadata": {
    "id": "xP1ZnAfBaUyQ"
   },
   "source": [
    "Columns with reasons to drop:\n",
    "- user_id, purchase_value, device_id, age, ip_address: unuseful columns.\n",
    "- signup_time, purchase_time: represented by the new column time_difference that represents the difference between them.\n",
    "- source, browser: one hot encoded."
   ]
  },
  {
   "cell_type": "code",
   "execution_count": 22,
   "metadata": {
    "id": "io4lsCkDaUyQ"
   },
   "outputs": [
    {
     "data": {
      "text/html": [
       "<div>\n",
       "<style scoped>\n",
       "    .dataframe tbody tr th:only-of-type {\n",
       "        vertical-align: middle;\n",
       "    }\n",
       "\n",
       "    .dataframe tbody tr th {\n",
       "        vertical-align: top;\n",
       "    }\n",
       "\n",
       "    .dataframe thead th {\n",
       "        text-align: right;\n",
       "    }\n",
       "</style>\n",
       "<table border=\"1\" class=\"dataframe\">\n",
       "  <thead>\n",
       "    <tr style=\"text-align: right;\">\n",
       "      <th></th>\n",
       "      <th>sex</th>\n",
       "      <th>is_fraud</th>\n",
       "      <th>time_difference</th>\n",
       "      <th>encoded_Direct</th>\n",
       "      <th>encoded_SEO</th>\n",
       "      <th>encoded_FireFox</th>\n",
       "      <th>encoded_IE</th>\n",
       "      <th>encoded_Opera</th>\n",
       "      <th>encoded_Safari</th>\n",
       "    </tr>\n",
       "  </thead>\n",
       "  <tbody>\n",
       "    <tr>\n",
       "      <th>0</th>\n",
       "      <td>1</td>\n",
       "      <td>0</td>\n",
       "      <td>-75112.0</td>\n",
       "      <td>0</td>\n",
       "      <td>1</td>\n",
       "      <td>0</td>\n",
       "      <td>0</td>\n",
       "      <td>0</td>\n",
       "      <td>0</td>\n",
       "    </tr>\n",
       "    <tr>\n",
       "      <th>1</th>\n",
       "      <td>0</td>\n",
       "      <td>0</td>\n",
       "      <td>-300.0</td>\n",
       "      <td>0</td>\n",
       "      <td>0</td>\n",
       "      <td>0</td>\n",
       "      <td>0</td>\n",
       "      <td>0</td>\n",
       "      <td>0</td>\n",
       "    </tr>\n",
       "    <tr>\n",
       "      <th>2</th>\n",
       "      <td>1</td>\n",
       "      <td>1</td>\n",
       "      <td>-1.0</td>\n",
       "      <td>0</td>\n",
       "      <td>1</td>\n",
       "      <td>0</td>\n",
       "      <td>0</td>\n",
       "      <td>1</td>\n",
       "      <td>0</td>\n",
       "    </tr>\n",
       "    <tr>\n",
       "      <th>3</th>\n",
       "      <td>1</td>\n",
       "      <td>0</td>\n",
       "      <td>-8202.0</td>\n",
       "      <td>0</td>\n",
       "      <td>1</td>\n",
       "      <td>0</td>\n",
       "      <td>0</td>\n",
       "      <td>0</td>\n",
       "      <td>1</td>\n",
       "    </tr>\n",
       "    <tr>\n",
       "      <th>4</th>\n",
       "      <td>1</td>\n",
       "      <td>0</td>\n",
       "      <td>-72692.0</td>\n",
       "      <td>0</td>\n",
       "      <td>0</td>\n",
       "      <td>0</td>\n",
       "      <td>0</td>\n",
       "      <td>0</td>\n",
       "      <td>1</td>\n",
       "    </tr>\n",
       "  </tbody>\n",
       "</table>\n",
       "</div>"
      ],
      "text/plain": [
       "   sex  is_fraud  time_difference  encoded_Direct  encoded_SEO  \\\n",
       "0    1         0         -75112.0               0            1   \n",
       "1    0         0           -300.0               0            0   \n",
       "2    1         1             -1.0               0            1   \n",
       "3    1         0          -8202.0               0            1   \n",
       "4    1         0         -72692.0               0            0   \n",
       "\n",
       "   encoded_FireFox  encoded_IE  encoded_Opera  encoded_Safari  \n",
       "0                0           0              0               0  \n",
       "1                0           0              0               0  \n",
       "2                0           0              1               0  \n",
       "3                0           0              0               1  \n",
       "4                0           0              0               1  "
      ]
     },
     "execution_count": 22,
     "metadata": {},
     "output_type": "execute_result"
    }
   ],
   "source": [
    "# creating a list of columns to be dropped\n",
    "columns_drop = [\"user_id\", \"signup_time\", \"purchase_time\", \"purchase_value\", \"device_id\", \"source\", \"browser\", \"age\", \"ip_address\"]\n",
    "\n",
    "# dropping columns and copy the remaining into a new dataframe (to have a checkpoint for df in case of any mistakes later on)\n",
    "df_clean = df.drop(columns_drop, axis=1)\n",
    "df_clean.head()"
   ]
  },
  {
   "cell_type": "markdown",
   "metadata": {},
   "source": [
    "#### Data Preparation"
   ]
  },
  {
   "cell_type": "code",
   "execution_count": 23,
   "metadata": {
    "id": "WhypXD_raUyR"
   },
   "outputs": [],
   "source": [
    "# creating dependant variables (X) set and independant variable (y) set\n",
    "X = df_clean.drop([\"is_fraud\"], axis=1)\n",
    "y = df_clean[\"is_fraud\"]"
   ]
  },
  {
   "cell_type": "code",
   "execution_count": 24,
   "metadata": {
    "id": "YVfwZHG-aUyR"
   },
   "outputs": [
    {
     "data": {
      "text/html": [
       "<div>\n",
       "<style scoped>\n",
       "    .dataframe tbody tr th:only-of-type {\n",
       "        vertical-align: middle;\n",
       "    }\n",
       "\n",
       "    .dataframe tbody tr th {\n",
       "        vertical-align: top;\n",
       "    }\n",
       "\n",
       "    .dataframe thead th {\n",
       "        text-align: right;\n",
       "    }\n",
       "</style>\n",
       "<table border=\"1\" class=\"dataframe\">\n",
       "  <thead>\n",
       "    <tr style=\"text-align: right;\">\n",
       "      <th></th>\n",
       "      <th>sex</th>\n",
       "      <th>time_difference</th>\n",
       "      <th>encoded_Direct</th>\n",
       "      <th>encoded_SEO</th>\n",
       "      <th>encoded_FireFox</th>\n",
       "      <th>encoded_IE</th>\n",
       "      <th>encoded_Opera</th>\n",
       "      <th>encoded_Safari</th>\n",
       "    </tr>\n",
       "  </thead>\n",
       "  <tbody>\n",
       "    <tr>\n",
       "      <th>0</th>\n",
       "      <td>1</td>\n",
       "      <td>-75112.0</td>\n",
       "      <td>0</td>\n",
       "      <td>1</td>\n",
       "      <td>0</td>\n",
       "      <td>0</td>\n",
       "      <td>0</td>\n",
       "      <td>0</td>\n",
       "    </tr>\n",
       "    <tr>\n",
       "      <th>1</th>\n",
       "      <td>0</td>\n",
       "      <td>-300.0</td>\n",
       "      <td>0</td>\n",
       "      <td>0</td>\n",
       "      <td>0</td>\n",
       "      <td>0</td>\n",
       "      <td>0</td>\n",
       "      <td>0</td>\n",
       "    </tr>\n",
       "    <tr>\n",
       "      <th>2</th>\n",
       "      <td>1</td>\n",
       "      <td>-1.0</td>\n",
       "      <td>0</td>\n",
       "      <td>1</td>\n",
       "      <td>0</td>\n",
       "      <td>0</td>\n",
       "      <td>1</td>\n",
       "      <td>0</td>\n",
       "    </tr>\n",
       "    <tr>\n",
       "      <th>3</th>\n",
       "      <td>1</td>\n",
       "      <td>-8202.0</td>\n",
       "      <td>0</td>\n",
       "      <td>1</td>\n",
       "      <td>0</td>\n",
       "      <td>0</td>\n",
       "      <td>0</td>\n",
       "      <td>1</td>\n",
       "    </tr>\n",
       "    <tr>\n",
       "      <th>4</th>\n",
       "      <td>1</td>\n",
       "      <td>-72692.0</td>\n",
       "      <td>0</td>\n",
       "      <td>0</td>\n",
       "      <td>0</td>\n",
       "      <td>0</td>\n",
       "      <td>0</td>\n",
       "      <td>1</td>\n",
       "    </tr>\n",
       "  </tbody>\n",
       "</table>\n",
       "</div>"
      ],
      "text/plain": [
       "   sex  time_difference  encoded_Direct  encoded_SEO  encoded_FireFox  \\\n",
       "0    1         -75112.0               0            1                0   \n",
       "1    0           -300.0               0            0                0   \n",
       "2    1             -1.0               0            1                0   \n",
       "3    1          -8202.0               0            1                0   \n",
       "4    1         -72692.0               0            0                0   \n",
       "\n",
       "   encoded_IE  encoded_Opera  encoded_Safari  \n",
       "0           0              0               0  \n",
       "1           0              0               0  \n",
       "2           0              1               0  \n",
       "3           0              0               1  \n",
       "4           0              0               1  "
      ]
     },
     "execution_count": 24,
     "metadata": {},
     "output_type": "execute_result"
    }
   ],
   "source": [
    "X.head()"
   ]
  },
  {
   "cell_type": "code",
   "execution_count": 25,
   "metadata": {
    "id": "xpzgczgnaUyR"
   },
   "outputs": [
    {
     "data": {
      "text/plain": [
       "0    0\n",
       "1    0\n",
       "2    1\n",
       "3    0\n",
       "4    0\n",
       "Name: is_fraud, dtype: int64"
      ]
     },
     "execution_count": 25,
     "metadata": {},
     "output_type": "execute_result"
    }
   ],
   "source": [
    "y.head()"
   ]
  },
  {
   "cell_type": "code",
   "execution_count": 26,
   "metadata": {
    "id": "nCQne9hDaUyS"
   },
   "outputs": [],
   "source": [
    "# scaling time_difference\n",
    "from sklearn.preprocessing import StandardScaler\n",
    "sc_X = StandardScaler()\n",
    "scaled_features = sc_X.fit_transform(np.array(X[\"time_difference\"].values).reshape(-1,1))\n",
    "X_scaled = X.drop([\"time_difference\"], axis=1)\n",
    "X_scaled[\"time_difference\"] = scaled_features"
   ]
  },
  {
   "cell_type": "code",
   "execution_count": 27,
   "metadata": {
    "id": "4X0gPryBaUyS"
   },
   "outputs": [
    {
     "data": {
      "text/html": [
       "<div>\n",
       "<style scoped>\n",
       "    .dataframe tbody tr th:only-of-type {\n",
       "        vertical-align: middle;\n",
       "    }\n",
       "\n",
       "    .dataframe tbody tr th {\n",
       "        vertical-align: top;\n",
       "    }\n",
       "\n",
       "    .dataframe thead th {\n",
       "        text-align: right;\n",
       "    }\n",
       "</style>\n",
       "<table border=\"1\" class=\"dataframe\">\n",
       "  <thead>\n",
       "    <tr style=\"text-align: right;\">\n",
       "      <th></th>\n",
       "      <th>sex</th>\n",
       "      <th>encoded_Direct</th>\n",
       "      <th>encoded_SEO</th>\n",
       "      <th>encoded_FireFox</th>\n",
       "      <th>encoded_IE</th>\n",
       "      <th>encoded_Opera</th>\n",
       "      <th>encoded_Safari</th>\n",
       "      <th>time_difference</th>\n",
       "    </tr>\n",
       "  </thead>\n",
       "  <tbody>\n",
       "    <tr>\n",
       "      <th>0</th>\n",
       "      <td>1</td>\n",
       "      <td>0</td>\n",
       "      <td>1</td>\n",
       "      <td>0</td>\n",
       "      <td>0</td>\n",
       "      <td>0</td>\n",
       "      <td>0</td>\n",
       "      <td>0.136054</td>\n",
       "    </tr>\n",
       "    <tr>\n",
       "      <th>1</th>\n",
       "      <td>0</td>\n",
       "      <td>0</td>\n",
       "      <td>0</td>\n",
       "      <td>0</td>\n",
       "      <td>0</td>\n",
       "      <td>0</td>\n",
       "      <td>0</td>\n",
       "      <td>1.571870</td>\n",
       "    </tr>\n",
       "    <tr>\n",
       "      <th>2</th>\n",
       "      <td>1</td>\n",
       "      <td>0</td>\n",
       "      <td>1</td>\n",
       "      <td>0</td>\n",
       "      <td>0</td>\n",
       "      <td>1</td>\n",
       "      <td>0</td>\n",
       "      <td>1.577609</td>\n",
       "    </tr>\n",
       "    <tr>\n",
       "      <th>3</th>\n",
       "      <td>1</td>\n",
       "      <td>0</td>\n",
       "      <td>1</td>\n",
       "      <td>0</td>\n",
       "      <td>0</td>\n",
       "      <td>0</td>\n",
       "      <td>1</td>\n",
       "      <td>1.420213</td>\n",
       "    </tr>\n",
       "    <tr>\n",
       "      <th>4</th>\n",
       "      <td>1</td>\n",
       "      <td>0</td>\n",
       "      <td>0</td>\n",
       "      <td>0</td>\n",
       "      <td>0</td>\n",
       "      <td>0</td>\n",
       "      <td>1</td>\n",
       "      <td>0.182500</td>\n",
       "    </tr>\n",
       "  </tbody>\n",
       "</table>\n",
       "</div>"
      ],
      "text/plain": [
       "   sex  encoded_Direct  encoded_SEO  encoded_FireFox  encoded_IE  \\\n",
       "0    1               0            1                0           0   \n",
       "1    0               0            0                0           0   \n",
       "2    1               0            1                0           0   \n",
       "3    1               0            1                0           0   \n",
       "4    1               0            0                0           0   \n",
       "\n",
       "   encoded_Opera  encoded_Safari  time_difference  \n",
       "0              0               0         0.136054  \n",
       "1              0               0         1.571870  \n",
       "2              1               0         1.577609  \n",
       "3              0               1         1.420213  \n",
       "4              0               1         0.182500  "
      ]
     },
     "execution_count": 27,
     "metadata": {},
     "output_type": "execute_result"
    }
   ],
   "source": [
    "X_scaled.head()"
   ]
  },
  {
   "cell_type": "code",
   "execution_count": 28,
   "metadata": {
    "id": "qA0TTNSLaUyS"
   },
   "outputs": [
    {
     "name": "stdout",
     "output_type": "stream",
     "text": [
      "Shape of X_train: (136000, 8)\n",
      "Shape of X_test: (15112, 8)\n",
      "Shape of y_train: (136000,)\n",
      "Shape of y_test: (15112,)\n"
     ]
    }
   ],
   "source": [
    "#splitting data into training data and testing data\n",
    "from sklearn.model_selection import train_test_split\n",
    "X_train, X_test, y_train, y_test = train_test_split(X_scaled,y, test_size=0.1, random_state=123)\n",
    "for name, dataset in list(zip((\"X_train\", \"X_test\", \"y_train\", \"y_test\"),(X_train, X_test, y_train, y_test))):\n",
    "    print(\"Shape of {name}: {dataset_shape}\".format(name=name, dataset_shape=dataset.shape))"
   ]
  },
  {
   "cell_type": "markdown",
   "metadata": {},
   "source": [
    "#### Model Selection and Evaluation"
   ]
  },
  {
   "cell_type": "code",
   "execution_count": 29,
   "metadata": {
    "id": "MMyPLsP4aTXW"
   },
   "outputs": [],
   "source": [
    "# importing evaluation metrics\n",
    "from sklearn.metrics import confusion_matrix, accuracy_score, precision_score, recall_score"
   ]
  },
  {
   "cell_type": "markdown",
   "metadata": {},
   "source": [
    "Linear Regression"
   ]
  },
  {
   "cell_type": "code",
   "execution_count": 30,
   "metadata": {
    "id": "0qm2JjwIaUyU"
   },
   "outputs": [],
   "source": [
    "# building classifier\n",
    "from sklearn.linear_model import LogisticRegression\n",
    "\n",
    "lr = LogisticRegression()\n",
    "lr.fit(X_train, y_train)\n",
    "y_pred_lr = lr.predict(X_test)"
   ]
  },
  {
   "cell_type": "code",
   "execution_count": 31,
   "metadata": {
    "id": "IzXsZbORaUyU"
   },
   "outputs": [
    {
     "data": {
      "text/plain": [
       "0.9011381683430386"
      ]
     },
     "execution_count": 31,
     "metadata": {},
     "output_type": "execute_result"
    }
   ],
   "source": [
    "# getting accuracy\n",
    "test_acc_lr = accuracy_score(y_test, y_pred_lr)\n",
    "test_acc_lr"
   ]
  },
  {
   "cell_type": "code",
   "execution_count": 32,
   "metadata": {},
   "outputs": [
    {
     "data": {
      "text/plain": [
       "0.0"
      ]
     },
     "execution_count": 32,
     "metadata": {},
     "output_type": "execute_result"
    }
   ],
   "source": [
    "# getting  precision_score\n",
    "precision_score_lr = precision_score(y_test, y_pred_lr)\n",
    "precision_score_lr"
   ]
  },
  {
   "cell_type": "code",
   "execution_count": 33,
   "metadata": {},
   "outputs": [
    {
     "data": {
      "text/plain": [
       "0.0"
      ]
     },
     "execution_count": 33,
     "metadata": {},
     "output_type": "execute_result"
    }
   ],
   "source": [
    "# getting  recall\n",
    "recall_score_lr = recall_score(y_test, y_pred_lr)\n",
    "recall_score_lr"
   ]
  },
  {
   "cell_type": "code",
   "execution_count": 34,
   "metadata": {
    "id": "Mra1TF0uaUyV"
   },
   "outputs": [
    {
     "data": {
      "image/png": "[encoded data removed]",
      "text/plain": [
       "<Figure size 432x288 with 2 Axes>"
      ]
     },
     "metadata": {},
     "output_type": "display_data"
    }
   ],
   "source": [
    "# plotting the confusion matrix\n",
    "cm = confusion_matrix(y_test, y_pred_lr)\n",
    "ax = sns.heatmap(cm, cmap=\"plasma\", annot=True, fmt=\"d\")\n",
    "ax.set_ylabel(\"True Class\")\n",
    "ax.set_xlabel(\"Predicted Class\")\n",
    "labels=[\"Non-Fraudulant\", \"Fraudulant\"]\n",
    "ax.xaxis.set_ticklabels(labels)\n",
    "ax.yaxis.set_ticklabels(labels)\n",
    "plt.show()"
   ]
  },
  {
   "cell_type": "markdown",
   "metadata": {},
   "source": [
    "Decision Tree"
   ]
  },
  {
   "cell_type": "code",
   "execution_count": 35,
   "metadata": {
    "id": "3szkeRwjaUyV"
   },
   "outputs": [],
   "source": [
    "# building classifier\n",
    "from sklearn.tree import DecisionTreeClassifier\n",
    "\n",
    "dt = DecisionTreeClassifier()\n",
    "dt.fit(X_train, y_train)\n",
    "y_pred_dt = dt.predict(X_test)"
   ]
  },
  {
   "cell_type": "code",
   "execution_count": 36,
   "metadata": {
    "id": "9sLd7lctaUyV"
   },
   "outputs": [
    {
     "data": {
      "text/plain": [
       "0.9111964002117523"
      ]
     },
     "execution_count": 36,
     "metadata": {},
     "output_type": "execute_result"
    }
   ],
   "source": [
    "# getting accuracy\n",
    "test_acc_dt = accuracy_score(y_test, y_pred_dt)\n",
    "test_acc_dt"
   ]
  },
  {
   "cell_type": "code",
   "execution_count": 37,
   "metadata": {},
   "outputs": [
    {
     "data": {
      "text/plain": [
       "0.5500658761528326"
      ]
     },
     "execution_count": 37,
     "metadata": {},
     "output_type": "execute_result"
    }
   ],
   "source": [
    "# getting  precision_score\n",
    "precision_score_dt = precision_score(y_test, y_pred_dt)\n",
    "precision_score_dt"
   ]
  },
  {
   "cell_type": "code",
   "execution_count": 38,
   "metadata": {},
   "outputs": [
    {
     "data": {
      "text/plain": [
       "0.5589022757697456"
      ]
     },
     "execution_count": 38,
     "metadata": {},
     "output_type": "execute_result"
    }
   ],
   "source": [
    "# getting  recall\n",
    "recall_score_dt = recall_score(y_test, y_pred_dt)\n",
    "recall_score_dt"
   ]
  },
  {
   "cell_type": "code",
   "execution_count": 39,
   "metadata": {
    "id": "WP2pDv1Aa44R"
   },
   "outputs": [
    {
     "data": {
      "image/png": "[encoded data removed]",
      "text/plain": [
       "<Figure size 432x288 with 2 Axes>"
      ]
     },
     "metadata": {},
     "output_type": "display_data"
    }
   ],
   "source": [
    "# plotting the confusion matrix\n",
    "cm = confusion_matrix(y_test, y_pred_dt)\n",
    "ax = sns.heatmap(cm, cmap=\"plasma\", annot=True, fmt=\"d\")\n",
    "ax.set_ylabel(\"True Class\")\n",
    "ax.set_xlabel(\"Predicted Class\")\n",
    "labels=[\"Non-Fraudulant\", \"Fraudulant\"]\n",
    "ax.xaxis.set_ticklabels(labels)\n",
    "ax.yaxis.set_ticklabels(labels)\n",
    "plt.show()"
   ]
  },
  {
   "cell_type": "markdown",
   "metadata": {},
   "source": [
    "Random Forest"
   ]
  },
  {
   "cell_type": "code",
   "execution_count": 40,
   "metadata": {
    "id": "QWUTZ11KaUyW"
   },
   "outputs": [],
   "source": [
    "# building classifier\n",
    "from sklearn.ensemble import RandomForestClassifier\n",
    "\n",
    "rf = RandomForestClassifier()\n",
    "rf.fit(X_train, y_train)\n",
    "y_pred_rf = rf.predict(X_test)"
   ]
  },
  {
   "cell_type": "code",
   "execution_count": 41,
   "metadata": {
    "id": "tRb31M-laUyW"
   },
   "outputs": [
    {
     "data": {
      "text/plain": [
       "0.9151005823186872"
      ]
     },
     "execution_count": 41,
     "metadata": {},
     "output_type": "execute_result"
    }
   ],
   "source": [
    "# getting accuracy\n",
    "test_acc_rf = accuracy_score(y_test, y_pred_rf)\n",
    "test_acc_rf"
   ]
  },
  {
   "cell_type": "code",
   "execution_count": 42,
   "metadata": {},
   "outputs": [
    {
     "data": {
      "text/plain": [
       "0.5725085910652921"
      ]
     },
     "execution_count": 42,
     "metadata": {},
     "output_type": "execute_result"
    }
   ],
   "source": [
    "# getting  precision_score\n",
    "precision_score_rf = precision_score(y_test, y_pred_rf)\n",
    "precision_score_rf"
   ]
  },
  {
   "cell_type": "code",
   "execution_count": 43,
   "metadata": {},
   "outputs": [
    {
     "data": {
      "text/plain": [
       "0.5575635876840697"
      ]
     },
     "execution_count": 43,
     "metadata": {},
     "output_type": "execute_result"
    }
   ],
   "source": [
    "# getting  recall\n",
    "recall_score_rf = recall_score(y_test, y_pred_rf)\n",
    "recall_score_rf"
   ]
  },
  {
   "cell_type": "code",
   "execution_count": 44,
   "metadata": {
    "id": "kP6zU9MiaUyX"
   },
   "outputs": [
    {
     "data": {
      "image/png": "[encoded data removed]",
      "text/plain": [
       "<Figure size 432x288 with 2 Axes>"
      ]
     },
     "metadata": {},
     "output_type": "display_data"
    }
   ],
   "source": [
    "# plotting the confusion matrix\n",
    "cm = confusion_matrix(y_test, y_pred_rf)\n",
    "ax = sns.heatmap(cm, cmap=\"plasma\", annot=True, fmt=\"d\")\n",
    "ax.set_ylabel(\"True Class\")\n",
    "ax.set_xlabel(\"Predicted Class\")\n",
    "labels=[\"Non-Fraudulant\", \"Fraudulant\"]\n",
    "ax.xaxis.set_ticklabels(labels)\n",
    "ax.yaxis.set_ticklabels(labels)\n",
    "plt.show()"
   ]
  },
  {
   "cell_type": "markdown",
   "metadata": {},
   "source": [
    "Artificial Neural Network (ANN)"
   ]
  },
  {
   "cell_type": "code",
   "execution_count": 45,
   "metadata": {
    "id": "DHCKqBj8aUyY",
    "scrolled": true
   },
   "outputs": [
    {
     "name": "stderr",
     "output_type": "stream",
     "text": [
      "Using TensorFlow backend.\n"
     ]
    },
    {
     "name": "stdout",
     "output_type": "stream",
     "text": [
      "Epoch 1/10\n",
      "136000/136000 [==============================] - 5s 40us/step - loss: 0.2303 - accuracy: 0.9313\n",
      "Epoch 2/10\n",
      "136000/136000 [==============================] - 5s 39us/step - loss: 0.2073 - accuracy: 0.9431\n",
      "Epoch 3/10\n",
      "136000/136000 [==============================] - 5s 39us/step - loss: 0.2037 - accuracy: 0.9450\n",
      "Epoch 4/10\n",
      "136000/136000 [==============================] - 5s 40us/step - loss: 0.2010 - accuracy: 0.9462\n",
      "Epoch 5/10\n",
      "136000/136000 [==============================] - 5s 40us/step - loss: 0.2007 - accuracy: 0.9466\n",
      "Epoch 6/10\n",
      "136000/136000 [==============================] - 5s 40us/step - loss: 0.2002 - accuracy: 0.9470\n",
      "Epoch 7/10\n",
      "136000/136000 [==============================] - 5s 40us/step - loss: 0.1975 - accuracy: 0.9480\n",
      "Epoch 8/10\n",
      "136000/136000 [==============================] - 6s 41us/step - loss: 0.1977 - accuracy: 0.9481\n",
      "Epoch 9/10\n",
      "136000/136000 [==============================] - 5s 39us/step - loss: 0.1973 - accuracy: 0.9482\n",
      "Epoch 10/10\n",
      "136000/136000 [==============================] - 5s 39us/step - loss: 0.1967 - accuracy: 0.9490\n"
     ]
    }
   ],
   "source": [
    "# building ANN\n",
    "from keras.models import Sequential\n",
    "from keras.layers import Dense\n",
    "\n",
    "model=Sequential()\n",
    "model.add(Dense(64,input_dim=8,activation=\"relu\"))\n",
    "model.add(Dense(128,input_dim=64,activation=\"relu\"))\n",
    "model.add(Dense(1,activation='sigmoid'))\n",
    "model.compile(loss=\"binary_crossentropy\",optimizer=\"adam\",metrics=[\"accuracy\"])\n",
    "results = model.fit(X_train, y_train, epochs=10)"
   ]
  },
  {
   "cell_type": "code",
   "execution_count": 46,
   "metadata": {
    "id": "PJ5DsWopvNGy"
   },
   "outputs": [
    {
     "data": {
      "text/plain": [
       "94.52"
      ]
     },
     "execution_count": 46,
     "metadata": {},
     "output_type": "execute_result"
    }
   ],
   "source": [
    "# getting accuracy accross the 10 epochs (training)\n",
    "avg_train_acc_ann = np.round(sum(results.history[\"accuracy\"]) / len(results.history[\"accuracy\"])*100, 2)\n",
    "avg_train_acc_ann"
   ]
  },
  {
   "cell_type": "code",
   "execution_count": 47,
   "metadata": {
    "id": "qNTgg6aWaUyY"
   },
   "outputs": [
    {
     "data": {
      "text/plain": [
       "(15112,)"
      ]
     },
     "execution_count": 47,
     "metadata": {},
     "output_type": "execute_result"
    }
   ],
   "source": [
    "# prediciting with ANN\n",
    "y_pred_ann = model.predict(X_test)\n",
    "y_pred_ann = np.squeeze((y_pred_ann > 0.5) * 1) # every probability > 0.5 is of class 1 (fraudulent) and <=0.5 is of class 0 (non-fraudulent)\n",
    "\n",
    "# printing the predictions vector's shape\n",
    "y_pred_ann.shape # should be the same as y_test"
   ]
  },
  {
   "cell_type": "code",
   "execution_count": 48,
   "metadata": {
    "id": "NR095JLDvI0O",
    "scrolled": true
   },
   "outputs": [
    {
     "data": {
      "image/png": "[encoded data removed]",
      "text/plain": [
       "<Figure size 432x288 with 2 Axes>"
      ]
     },
     "metadata": {},
     "output_type": "display_data"
    }
   ],
   "source": [
    "# plotting the confusion matrix\n",
    "cm = confusion_matrix(y_test, y_pred_ann)\n",
    "ax = sns.heatmap(cm, cmap=\"plasma\", annot=True, fmt=\"d\")\n",
    "ax.set_ylabel(\"True Class\")\n",
    "ax.set_xlabel(\"Predicted Class\")\n",
    "labels=[\"Non-Fraudulant\", \"Fraudulant\"]\n",
    "ax.xaxis.set_ticklabels(labels)\n",
    "ax.yaxis.set_ticklabels(labels)\n",
    "plt.show()"
   ]
  },
  {
   "cell_type": "code",
   "execution_count": 49,
   "metadata": {},
   "outputs": [
    {
     "data": {
      "text/plain": [
       "0.95"
      ]
     },
     "execution_count": 49,
     "metadata": {},
     "output_type": "execute_result"
    }
   ],
   "source": [
    "# getting testing accuracy\n",
    "test_acc_ann = np.round((cm[0][0] + cm[1][1]) / np.sum(cm), 2)\n",
    "test_acc_ann"
   ]
  },
  {
   "cell_type": "code",
   "execution_count": 50,
   "metadata": {},
   "outputs": [
    {
     "data": {
      "text/plain": [
       "0.8783930510314875"
      ]
     },
     "execution_count": 50,
     "metadata": {},
     "output_type": "execute_result"
    }
   ],
   "source": [
    "# getting precision\n",
    "precision_score_ann = precision_score(y_test, y_pred_ann)\n",
    "precision_score_ann"
   ]
  },
  {
   "cell_type": "code",
   "execution_count": 51,
   "metadata": {},
   "outputs": [
    {
     "data": {
      "text/plain": [
       "0.5414993306559571"
      ]
     },
     "execution_count": 51,
     "metadata": {},
     "output_type": "execute_result"
    }
   ],
   "source": [
    "# getting recall score\n",
    "recall_score_ann = recall_score(y_test, y_pred_ann)\n",
    "recall_score_ann"
   ]
  },
  {
   "cell_type": "markdown",
   "metadata": {},
   "source": [
    "#### Results and Discussion"
   ]
  },
  {
   "cell_type": "markdown",
   "metadata": {},
   "source": [
    "Our goal here is to reduce the False Positives (predicting the Fraudulant as Non-Fraudulant) as much as possible. Therefore, the accuracy and the precision scores are the two most important metrics in our case: it is acceptable if we predict non-fraudulent cases as fraudulent, but not the other way around."
   ]
  },
  {
   "cell_type": "markdown",
   "metadata": {},
   "source": [
    "Testing Accuracy quantifies the number of correct class predictions made out of all the actual classes: A = (TP + TN) / (TP + TN + FP + FN)."
   ]
  },
  {
   "cell_type": "markdown",
   "metadata": {},
   "source": [
    "Precision quantifies the number of positive class predictions that actually belong to the positive class: P = TP / (TP + FP)."
   ]
  },
  {
   "cell_type": "markdown",
   "metadata": {},
   "source": [
    "Recall quantifies the number of positive class predictions made out of all positive examples in the dataset: R = TP / (TP + FN)."
   ]
  },
  {
   "cell_type": "code",
   "execution_count": 52,
   "metadata": {},
   "outputs": [
    {
     "data": {
      "image/png": "[encoded data removed]",
      "text/plain": [
       "<Figure size 720x720 with 3 Axes>"
      ]
     },
     "metadata": {},
     "output_type": "display_data"
    }
   ],
   "source": [
    "# plotting evaluation metrics\n",
    "models_names = [\"Logistic Regression\", \"Decision Tree\", \"Random Forest\", \"ANN\"]\n",
    "scores_names = [\"Testing Accuracy\", \"Precision\", \"Recall\"]\n",
    "test_accs = [test_acc_lr, test_acc_dt, test_acc_rf, test_acc_ann]\n",
    "precision_scores = [precision_score_lr, precision_score_dt, precision_score_rf, precision_score_ann]\n",
    "recall_scores = [recall_score_lr, recall_score_dt, recall_score_rf, recall_score_ann]\n",
    "scores_list = [test_accs, precision_scores, recall_scores] \n",
    "fig,axes=plt.subplots(3,1,figsize=(10,10))\n",
    "i=0\n",
    "for score_name,score_list in list(zip(scores_names, scores_list)):\n",
    "    i=i+1\n",
    "    plt.subplot(3,1,i)\n",
    "    plt.subplots_adjust(top=1.0, bottom=0.0, hspace=0.5) # space between each subplot\n",
    "    plt.barh(models_names,score_list) # model_names = y-axis, score_list = x-axis\n",
    "    plt.title(\"Evaliation Metric: \"+score_name.split(\"_\")[0].capitalize(),fontsize=14)\n",
    "    plt.xlabel(score_name,fontsize=16)\n",
    "    plt.ylabel(\"Models\",fontsize=16)\n",
    "    for index, value in enumerate(score_list):\n",
    "        plt.text(round(value,2), index, str(round(value,2)))\n",
    "    plt.xticks(fontsize=16)\n",
    "    plt.yticks(fontsize=16)\n",
    "plt.show()"
   ]
  },
  {
   "cell_type": "markdown",
   "metadata": {},
   "source": [
    "We can observe the following points:\n",
    "- Logistic Regression has a high Testing Accuracy but a null Recall and Precision. Hence, it fails to identify fraudulent cases and predicts that all cases are non-fraudulent.\n",
    "- Decision Tree and Random Forest have high Testing Accuracies and higher Recall than ANN (lower FP), but much lower Precision (higher FN). This is a problem because FN represents fraudulent cases predicted as non-fraudulent.\n",
    "- ANN has the highest Testing Accuracy, highest precision (0.88) which is very importan because it means that it is efficiently detecting fraudulent cases (our main goal). However, it has a slightly lower Recall than Random Forest and Decision Tree, but it is acceptable since we can tolerate predicting a non-fraudulent case as fraudulent."
   ]
  },
  {
   "cell_type": "markdown",
   "metadata": {},
   "source": [
    "#### Conclusion"
   ]
  },
  {
   "cell_type": "markdown",
   "metadata": {},
   "source": [
    "From the results discussed above, it is obvious that ANN is the best model in our case scenario, with the dataset available in hand."
   ]
  }
 ],
 "metadata": {
  "colab": {
   "collapsed_sections": [],
   "name": "Untitled.ipynb",
   "provenance": []
  },
  "kernelspec": {
   "display_name": "Python 3",
   "language": "python",
   "name": "python3"
  },
  "language_info": {
   "codemirror_mode": {
    "name": "ipython",
    "version": 3
   },
   "file_extension": ".py",
   "mimetype": "text/x-python",
   "name": "python",
   "nbconvert_exporter": "python",
   "pygments_lexer": "ipython3",
   "version": "3.7.1"
  }
 },
 "nbformat": 4,
 "nbformat_minor": 1
}
